{
 "cells": [
  {
   "cell_type": "code",
   "execution_count": 25,
   "id": "9f17b712",
   "metadata": {},
   "outputs": [],
   "source": [
    "import requests"
   ]
  },
  {
   "cell_type": "code",
   "execution_count": 26,
   "id": "08e905b4",
   "metadata": {},
   "outputs": [
    {
     "data": {
      "text/plain": [
       "'http://localhost:5000/predict'"
      ]
     },
     "execution_count": 26,
     "metadata": {},
     "output_type": "execute_result"
    }
   ],
   "source": [
    "path='/predict'\n",
    "base_url='http://localhost:5000'\n",
    "endpoint=f\"{base_url}{path}\"\n",
    "endpoint"
   ]
  },
  {
   "cell_type": "code",
   "execution_count": 27,
   "id": "b25f6f84",
   "metadata": {},
   "outputs": [],
   "source": [
    "# curl -X POST \"http://localhost:5000/predict\" -H \"Content-Type: application/json\" -d '{\n",
    "#   \"sentences\": [\"SELECT * FROM users WHERE username='admin' --\"]\n",
    "# }'"
   ]
  },
  {
   "cell_type": "code",
   "execution_count": 41,
   "id": "d2c8a8b1",
   "metadata": {},
   "outputs": [],
   "source": [
    "data = {\n",
    "    \"sentences\": [\"SELECT * FROM users WHERE username='admin' --\"]\n",
    "}\n",
    "response = requests.post(endpoint, json=data)"
   ]
  },
  {
   "cell_type": "code",
   "execution_count": 42,
   "id": "7c282dd7",
   "metadata": {},
   "outputs": [
    {
     "name": "stdout",
     "output_type": "stream",
     "text": [
      "{\"predictions\":[0],\"average_confidence\":0.661224693489643}\n",
      "True\n"
     ]
    }
   ],
   "source": [
    "print(response.text)\n",
    "print(response.ok)"
   ]
  },
  {
   "cell_type": "code",
   "execution_count": 30,
   "id": "248a3f9b",
   "metadata": {},
   "outputs": [],
   "source": [
    "response = requests.get(endpoint)"
   ]
  },
  {
   "cell_type": "code",
   "execution_count": 31,
   "id": "83df9d81",
   "metadata": {},
   "outputs": [
    {
     "name": "stdout",
     "output_type": "stream",
     "text": [
      "{\"detail\":\"Method Not Allowed\"}\n"
     ]
    }
   ],
   "source": [
    "print(response.text)"
   ]
  },
  {
   "cell_type": "code",
   "execution_count": null,
   "id": "a057239a",
   "metadata": {},
   "outputs": [],
   "source": []
  }
 ],
 "metadata": {
  "kernelspec": {
   "display_name": "jupyter_env",
   "language": "python",
   "name": "python3"
  },
  "language_info": {
   "codemirror_mode": {
    "name": "ipython",
    "version": 3
   },
   "file_extension": ".py",
   "mimetype": "text/x-python",
   "name": "python",
   "nbconvert_exporter": "python",
   "pygments_lexer": "ipython3",
   "version": "3.12.3"
  }
 },
 "nbformat": 4,
 "nbformat_minor": 5
}

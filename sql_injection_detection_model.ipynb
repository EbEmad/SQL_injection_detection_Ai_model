{
 "cells": [
  {
   "cell_type": "code",
   "execution_count": null,
   "id": "8ea0bd9a",
   "metadata": {
    "vscode": {
     "languageId": "plaintext"
    }
   },
   "outputs": [],
   "source": [
    "import pandas as pd\n",
    "import numpy as np\n",
    "from sklearn.model_selection import train_test_split\n",
    "from sklearn.feature_extraction.text import CountVectorizer\n",
    "from sklearn.ensemble import RandomForestClassifier\n",
    "from sklearn.metrics import classification_report,accuracy_score"
   ]
  },
  {
   "cell_type": "markdown",
   "id": "9ba3e3a8-c33d-4a05-a7c4-d2fb606fd3e9",
   "metadata": {
    "vscode": {
     "languageId": "plaintext"
    }
   },
   "source": [
    "# load the data"
   ]
  },
  {
   "cell_type": "code",
   "execution_count": null,
   "id": "951e2e7b-8634-4917-ac52-8ea13079ccfe",
   "metadata": {},
   "outputs": [],
   "source": [
    "df=pd.read_csv('./dataset/sqliv2.csv',encoding='utf-16')"
   ]
  },
  {
   "cell_type": "markdown",
   "id": "9d4d26aa-85f9-41e1-a017-a3f7ef043bea",
   "metadata": {},
   "source": [
    "# EDA for the dataset"
   ]
  },
  {
   "cell_type": "code",
   "execution_count": null,
   "id": "a4aace01-8b07-4e3c-bef0-269e4df94e2f",
   "metadata": {},
   "outputs": [],
   "source": [
    "df.shape"
   ]
  },
  {
   "cell_type": "code",
   "execution_count": null,
   "id": "65018b58-2eb4-4578-af32-b922e08151a7",
   "metadata": {},
   "outputs": [],
   "source": [
    "df.dtypes"
   ]
  },
  {
   "cell_type": "code",
   "execution_count": null,
   "id": "817cfda5-5686-4dc3-9e9e-a1ed2c7b118d",
   "metadata": {},
   "outputs": [],
   "source": [
    "df.head()"
   ]
  },
  {
   "cell_type": "code",
   "execution_count": null,
   "id": "06e907e8-288c-423c-9131-277eb81f9199",
   "metadata": {},
   "outputs": [],
   "source": [
    "df.tail()"
   ]
  },
  {
   "cell_type": "code",
   "execution_count": null,
   "id": "57a215d7-b403-4895-9dc8-81643ff4466c",
   "metadata": {},
   "outputs": [],
   "source": [
    "df.isna().sum()"
   ]
  },
  {
   "cell_type": "code",
   "execution_count": null,
   "id": "0f751f3a-2071-4e2a-88f0-4d8f6d8fda41",
   "metadata": {},
   "outputs": [],
   "source": [
    "df[df['Sentence'].isna()]"
   ]
  },
  {
   "cell_type": "code",
   "execution_count": null,
   "id": "d182167b-25cc-4fd4-a880-cd20cd5c2ee0",
   "metadata": {},
   "outputs": [],
   "source": [
    "df.dropna(inplace=True)"
   ]
  },
  {
   "cell_type": "code",
   "execution_count": null,
   "id": "4426b11c-e286-4435-9cd6-845d78258f0b",
   "metadata": {},
   "outputs": [],
   "source": [
    "df.reset_index(drop=True,inplace=True)"
   ]
  },
  {
   "cell_type": "code",
   "execution_count": null,
   "id": "7d18df2b-6869-49e3-9d1c-0a88f7a8e9a4",
   "metadata": {},
   "outputs": [],
   "source": [
    "df.info()"
   ]
  },
  {
   "cell_type": "code",
   "execution_count": null,
   "id": "1c865943-1bc0-4955-a52a-19e248653054",
   "metadata": {},
   "outputs": [],
   "source": [
    "df.duplicated().sum()"
   ]
  },
  {
   "cell_type": "code",
   "execution_count": null,
   "id": "9d75138c-bed4-4792-aefc-8debc3f31638",
   "metadata": {},
   "outputs": [],
   "source": [
    "df.drop_duplicates(inplace=True)\n",
    "df.reset_index(drop=True,inplace=True)"
   ]
  },
  {
   "cell_type": "code",
   "execution_count": null,
   "id": "df5cfdcd-2647-4458-ab40-3211c46364aa",
   "metadata": {},
   "outputs": [],
   "source": [
    "df.duplicated().sum()"
   ]
  },
  {
   "cell_type": "code",
   "execution_count": null,
   "id": "a0663eb8-ec4f-49da-aa89-983a490d65bd",
   "metadata": {},
   "outputs": [],
   "source": [
    "df.info()"
   ]
  },
  {
   "cell_type": "markdown",
   "id": "74a15810-84c9-4073-8c09-de1102893c39",
   "metadata": {},
   "source": [
    "# check the classses distribution"
   ]
  },
  {
   "cell_type": "code",
   "execution_count": null,
   "id": "f1c57a38-e403-4315-89f8-ba889ba57616",
   "metadata": {},
   "outputs": [],
   "source": [
    "class_distribution=pd.DataFrame(df['Label'].value_counts())"
   ]
  },
  {
   "cell_type": "code",
   "execution_count": null,
   "id": "a2292ac9-475f-4921-ad5c-e73db48e46ba",
   "metadata": {},
   "outputs": [],
   "source": [
    "class_distribution"
   ]
  },
  {
   "cell_type": "markdown",
   "id": "4fe84b02-8aca-4b27-b62e-9b6604c31ac1",
   "metadata": {},
   "source": [
    "# Bar plot that shows the classes distribution"
   ]
  },
  {
   "cell_type": "code",
   "execution_count": null,
   "id": "fc863c58-3e25-4ae8-991f-0fcf26c05755",
   "metadata": {},
   "outputs": [],
   "source": [
    "import matplotlib.pyplot as plt\n",
    "import seaborn as sns\n",
    "import warnings\n",
    "# Suppress warnings\n",
    "warnings.filterwarnings(\"ignore\")\n",
    "# Customized bar plot\n",
    "plt.figure(figsize=(6, 6))\n",
    "ax = sns.barplot(x='Label', y='count', data=class_distribution, palette=['blue', 'red'])\n",
    "\n",
    "# Rename the x-axis labels\n",
    "plt.xticks(ticks=[0, 1], labels=['Clean', 'SQLi'])\n",
    "\n",
    "# Add annotations\n",
    "for p in ax.patches:\n",
    "    ax.annotate(f'{int(p.get_height())}',\n",
    "                (p.get_x() + p.get_width() / 2., p.get_height()),\n",
    "                ha='center', va='center',\n",
    "                xytext=(0, 5),\n",
    "                textcoords='offset points')\n",
    "\n",
    "plt.xlabel('Label')\n",
    "plt.title('Count of Labels')\n",
    "plt.ylabel('Count')\n",
    "plt.show()\n"
   ]
  },
  {
   "cell_type": "markdown",
   "id": "3d530bf2-1de1-4dc1-8ab5-ce3bb9ce9fe2",
   "metadata": {},
   "source": [
    "# Plot to check if the data is labels is ordered"
   ]
  },
  {
   "cell_type": "code",
   "execution_count": null,
   "id": "2f02f536-9c60-4e3e-985f-0d3bea924227",
   "metadata": {},
   "outputs": [],
   "source": [
    "import matplotlib.pyplot as plt\n",
    "\n",
    "# Plot the labels\n",
    "plt.figure(figsize=(10, 4))\n",
    "plt.plot(df['Label'], marker='o', linestyle='', color='b')\n",
    "plt.title('Sequence of Labels')\n",
    "plt.xlabel('Row Index')\n",
    "plt.ylabel('Label')\n",
    "plt.yticks([0, 1], [\"Clean\", \"SQLi\"])\n",
    "plt.grid(True)\n",
    "plt.show()\n"
   ]
  },
  {
   "cell_type": "code",
   "execution_count": null,
   "id": "bbb3e7f2-ca3d-490e-9667-51f7ff506852",
   "metadata": {},
   "outputs": [],
   "source": [
    "df['Label']"
   ]
  },
  {
   "cell_type": "markdown",
   "id": "971f678c-5aeb-4cce-907b-61db591d4391",
   "metadata": {},
   "source": [
    "# Data Augmentation"
   ]
  },
  {
   "cell_type": "code",
   "execution_count": null,
   "id": "94ac2952-d3d8-4e9e-ba69-d732277312d9",
   "metadata": {},
   "outputs": [],
   "source": [
    "df2=pd.read_csv('./dataset/payload_full.csv')\n"
   ]
  },
  {
   "cell_type": "code",
   "execution_count": null,
   "id": "1590081f-71fa-44c1-8569-34e970154a90",
   "metadata": {},
   "outputs": [],
   "source": [
    "df2"
   ]
  },
  {
   "cell_type": "code",
   "execution_count": null,
   "id": "79cbe57d-14d1-47e1-8807-ced709f620bf",
   "metadata": {},
   "outputs": [],
   "source": [
    "df2.shape"
   ]
  },
  {
   "cell_type": "code",
   "execution_count": null,
   "id": "741d8b57-71b6-4115-aae9-35b4dd525247",
   "metadata": {},
   "outputs": [],
   "source": [
    "df2.head()"
   ]
  },
  {
   "cell_type": "code",
   "execution_count": null,
   "id": "6f831fe8-e898-42e1-a0e9-4bb15858b2d3",
   "metadata": {},
   "outputs": [],
   "source": [
    "del df2['length']\n",
    "del df2['label']"
   ]
  },
  {
   "cell_type": "code",
   "execution_count": null,
   "id": "609905f8-7a79-4f87-b620-0460d1df06cf",
   "metadata": {},
   "outputs": [],
   "source": [
    "df2.head()"
   ]
  },
  {
   "cell_type": "code",
   "execution_count": null,
   "id": "bac6c268-24e0-4976-8752-49f839cd0ba4",
   "metadata": {},
   "outputs": [],
   "source": [
    "df2['attack_type'].unique()"
   ]
  },
  {
   "cell_type": "code",
   "execution_count": null,
   "id": "588621e9-e293-458a-9213-2d8b53319757",
   "metadata": {},
   "outputs": [],
   "source": [
    "df2.columns"
   ]
  },
  {
   "cell_type": "code",
   "execution_count": null,
   "id": "e91d1e95-fdd9-48b6-8e46-2d04925bd278",
   "metadata": {},
   "outputs": [],
   "source": [
    "df2.columns=['Sentence','Label']"
   ]
  },
  {
   "cell_type": "code",
   "execution_count": null,
   "id": "b42c62a9-0a34-4d78-a7b4-01f209c47e33",
   "metadata": {},
   "outputs": [],
   "source": [
    "df2['Label'].value_counts()"
   ]
  },
  {
   "cell_type": "code",
   "execution_count": null,
   "id": "1c948739-13d9-48f0-8e7b-00127cd095a4",
   "metadata": {},
   "outputs": [],
   "source": [
    "df2=df2[df2['Label']=='sqli']"
   ]
  },
  {
   "cell_type": "code",
   "execution_count": null,
   "id": "fee8a7ff-f4de-4e4c-9e06-c3a7b0af1416",
   "metadata": {},
   "outputs": [],
   "source": [
    "df2.isna().sum()"
   ]
  },
  {
   "cell_type": "code",
   "execution_count": null,
   "id": "255c06f3-3c2b-4107-a1e0-4fef644d452a",
   "metadata": {},
   "outputs": [],
   "source": [
    "df2.duplicated().sum()"
   ]
  },
  {
   "cell_type": "markdown",
   "id": "310dc73e-5393-4387-8ae1-c6b836e83927",
   "metadata": {},
   "source": [
    "### Change the label from SQLi to 1, to match the first dataset structure"
   ]
  },
  {
   "cell_type": "code",
   "execution_count": null,
   "id": "a43efd39-8482-450d-b4f1-3f27d7efb384",
   "metadata": {},
   "outputs": [],
   "source": [
    "df2['Label']=1"
   ]
  },
  {
   "cell_type": "code",
   "execution_count": null,
   "id": "0cd454be-355d-4279-8f6d-f0aebdddb56c",
   "metadata": {},
   "outputs": [],
   "source": [
    "df2['Label'].value_counts()"
   ]
  },
  {
   "cell_type": "code",
   "execution_count": null,
   "id": "fcf122c2-7193-4b06-8e6f-169f5ffc217a",
   "metadata": {},
   "outputs": [],
   "source": [
    "df2.info()"
   ]
  },
  {
   "cell_type": "code",
   "execution_count": null,
   "id": "1be0e621-21b4-4341-b3bf-879d34333677",
   "metadata": {},
   "outputs": [],
   "source": [
    "df=pd.concat([df,df2])\n",
    "df.reset_index(drop=True,inplace=True)"
   ]
  },
  {
   "cell_type": "code",
   "execution_count": null,
   "id": "484841fa-1a74-4467-ac4f-957317f7686b",
   "metadata": {},
   "outputs": [],
   "source": [
    "df.shape"
   ]
  },
  {
   "cell_type": "code",
   "execution_count": null,
   "id": "27f8e1d1-7136-40cb-af5b-d02251324a5a",
   "metadata": {},
   "outputs": [],
   "source": [
    "after_redistribution=pd.DataFrame(df['Label'].value_counts())"
   ]
  },
  {
   "cell_type": "code",
   "execution_count": null,
   "id": "3d51b066-c131-44d2-8c2c-6632b1d71e6c",
   "metadata": {},
   "outputs": [],
   "source": [
    "after_redistribution"
   ]
  },
  {
   "cell_type": "code",
   "execution_count": null,
   "id": "c9c9c021-c9e0-4a6b-b920-4620958199ec",
   "metadata": {},
   "outputs": [],
   "source": [
    "df.duplicated().sum()"
   ]
  },
  {
   "cell_type": "code",
   "execution_count": null,
   "id": "59217319-0009-4af5-bc30-a0e84a38fc6f",
   "metadata": {},
   "outputs": [],
   "source": [
    "df.drop_duplicates(inplace=True)\n",
    "df.reset_index(drop=True, inplace=True)"
   ]
  },
  {
   "cell_type": "code",
   "execution_count": null,
   "id": "4192eaa6-d594-4e2c-9aa3-32d8068a51b8",
   "metadata": {},
   "outputs": [],
   "source": [
    "# Suppress warnings\n",
    "warnings.filterwarnings(\"ignore\")\n",
    "\n",
    "# Customized bar plot\n",
    "plt.figure(figsize=(6, 6))\n",
    "ax = sns.barplot(x='Label', y='count', data=after_redistribution, palette=['blue', 'red'])\n",
    "\n",
    "# Add annotations\n",
    "for p in ax.patches:\n",
    "    ax.annotate(f'{int(p.get_height())}',\n",
    "                (p.get_x() + p.get_width() / 2., p.get_height()),\n",
    "                ha='center', va='center',\n",
    "                xytext=(0, 5),\n",
    "                textcoords='offset points')\n",
    "plt.xticks(ticks=[0, 1], labels=['Clean', 'SQLi'])\n",
    "plt.title('Count of Labels')\n",
    "plt.xlabel('Label')\n",
    "plt.ylabel('Count')\n",
    "plt.show()"
   ]
  },
  {
   "cell_type": "code",
   "execution_count": null,
   "id": "b6bd40d0",
   "metadata": {},
   "outputs": [],
   "source": [
    "# Plot the labels\n",
    "plt.figure(figsize=(10, 4))\n",
    "plt.plot(df['Label'], marker='o', linestyle='', color='b')\n",
    "plt.title('Sequence of Labels')\n",
    "plt.xlabel('Row Index')\n",
    "plt.ylabel('Label')\n",
    "plt.yticks([0, 1])\n",
    "plt.grid(True)\n",
    "plt.show()"
   ]
  },
  {
   "cell_type": "code",
   "execution_count": null,
   "id": "91e2f33c",
   "metadata": {},
   "outputs": [],
   "source": [
    "df=df.sample(frac=1,random_state=42).reset_index(drop=True)"
   ]
  },
  {
   "cell_type": "code",
   "execution_count": null,
   "id": "7c50069b-b37a-45c1-93b1-23cbaeeeb685",
   "metadata": {},
   "outputs": [],
   "source": [
    "df.head()"
   ]
  },
  {
   "cell_type": "markdown",
   "id": "36bc1b7d-a555-41ef-8d14-b783164f7e95",
   "metadata": {},
   "source": [
    "# train test split"
   ]
  },
  {
   "cell_type": "code",
   "execution_count": null,
   "id": "7b282203-c1bc-4edc-8a19-0fd1e999cc88",
   "metadata": {},
   "outputs": [],
   "source": [
    "# split the dataset into training and testing sets\n",
    "x=df['Sentence']\n",
    "y=df['Label']\n",
    "\n",
    "x_train,x_test,y_train,y_test=train_test_split(x,y,test_size=0.2,random_state=42,stratify=y)"
   ]
  },
  {
   "cell_type": "markdown",
   "id": "913023ab-779a-4504-b766-98ca3ffe1b25",
   "metadata": {},
   "source": [
    "# Grid Search to find best vectorizer parameters"
   ]
  },
  {
   "cell_type": "code",
   "execution_count": null,
   "id": "6d42410d-9d9d-4f12-8040-00f379540fa1",
   "metadata": {},
   "outputs": [],
   "source": [
    "df.shape"
   ]
  },
  {
   "cell_type": "code",
   "execution_count": null,
   "id": "6b2bdf92-96e8-4106-8f9c-c9f72cc0b6f1",
   "metadata": {},
   "outputs": [],
   "source": [
    "from sklearn.feature_extraction.text import TfidfVectorizer\n",
    "\n",
    "\n",
    "\n",
    "# initialize the tf-idf vectorizer\n",
    "\n",
    "tfidf_vctorizer=TfidfVectorizer(\n",
    "          max_features=5000,\n",
    "    analyzer='word',\n",
    "    token_pattern=r'(?u)\\b\\w\\w+\\b|--|[\\\"\\';#\\-+()/\\*\\*/]',\n",
    "    max_df=0.9,\n",
    "    min_df=2,\n",
    "    norm='l2',\n",
    "    ngram_range=(1, 2)\n",
    ")\n",
    "\n",
    "\n",
    "# fit and transform the training data\n",
    "x_train_vectorized=tfidf_vctorizer.fit_transform(x_train)\n",
    "x_test_vectorized=tfidf_vctorizer.fit_transform(x_test)"
   ]
  },
  {
   "cell_type": "markdown",
   "id": "a9fbde95-2a92-4307-b572-8d74a1b058e9",
   "metadata": {},
   "source": [
    "### Train RandomForestClassifier"
   ]
  },
  {
   "cell_type": "code",
   "execution_count": null,
   "id": "00b6d6a5-1d39-404c-89d8-3b8ea709cbd2",
   "metadata": {},
   "outputs": [],
   "source": [
    "# initialize and train the model\n",
    "model=RandomForestClassifier(class_weight={0:1,1:5},random_state=42,min_samples_split=5,min_samples_leaf=2,n_jobs=-1)\n",
    "\n",
    "model.fit(x_train_vectorized,y_train)"
   ]
  },
  {
   "cell_type": "markdown",
   "id": "e8b8abf0-7101-4b97-8b4d-fa341f790347",
   "metadata": {},
   "source": [
    "### Random Search"
   ]
  },
  {
   "cell_type": "code",
   "execution_count": null,
   "id": "9d41db43-4035-4c63-83c5-db844fa848e7",
   "metadata": {},
   "outputs": [],
   "source": [
    "from sklearn.model_selection import RandomizedSearchCV\n",
    "from scipy.stats import randint,uniform\n",
    "\n",
    "# define the parameter distributions for random serach\n",
    "param_dist={\n",
    "    'n_estimators':randint(100,300),  # Random integer between 100 and 300\n",
    "    'max_depth': [None,10,20],    # Fixed choices\n",
    "    'min_samples_split':randint(2,10),     # Random integer between 2 and 10\n",
    "    'min_samples_leaf': randint(1,4),       # Random integer between 1 and 4\n",
    "    'class_weight':[{0: 1, 1: 2}, {0: 1, 1: 3}, {0: 1, 1: 5}, 'balanced'] # Fixed choices    \n",
    "}\n",
    "\n",
    "\n",
    "# initialize the rand serach\n",
    "\n",
    "rand_search=RandomizedSearchCV(\n",
    "    estimator=model,\n",
    "    param_distributions=param_dist,\n",
    "    n_iter=10,\n",
    "    cv=5,\n",
    "    scoring='recall',\n",
    "    n_jobs=-1,\n",
    "    random_state=42\n",
    "\n",
    ")\n",
    "\n",
    "# Fit Randomized Search\n",
    "rand_search.fit(x_train_vectorized, y_train)\n",
    "\n",
    "# Best parameters and recall score\n",
    "print(\"Best Parameters:\", rand_search.best_params_)\n",
    "print(\"Best Recall Score:\", rand_search.best_score_)"
   ]
  },
  {
   "cell_type": "markdown",
   "id": "e9e899ae-1710-4a5b-8918-63b5db38c67d",
   "metadata": {},
   "source": [
    "### Grid Search To find best class_weight"
   ]
  },
  {
   "cell_type": "code",
   "execution_count": null,
   "id": "0003c365-afd3-45e5-90be-2524a0e0afbf",
   "metadata": {},
   "outputs": [],
   "source": [
    "from sklearn.model_selection import GridSearchCV\n",
    "\n",
    "# define the parameter grid for classweights\n",
    "param_grid={\n",
    "    'n_estimators':[100,200,300],\n",
    "    'max_depth':[None,10,20],\n",
    "    'min_samples_split':[2,5,10],\n",
    "    'min_samples_leaf': [1,2,4],\n",
    "    'class_weight': [{0: 1, 1: 2}, {0: 1, 1: 3}, {0: 1, 1: 5}, 'balanced']\n",
    "    \n",
    "}\n",
    "\n",
    "\n",
    "# initlize the grid search\n",
    "grid_search=GridSearchCV(\n",
    "\n",
    "        estimator=model,\n",
    "        param_grid=param_grid,\n",
    "        cv=5,\n",
    "        scoring='recall',\n",
    "        n_jobs=-1\n",
    ")\n",
    "# Fit Grid Search\n",
    "grid_search.fit(x_train_vectorized, y_train)\n",
    "\n",
    "# Best parameters and recall score\n",
    "print(\"Best Parameters:\", grid_search.best_params_)\n",
    "print(\"Best Recall Score:\", grid_search.best_score_)"
   ]
  },
  {
   "cell_type": "code",
   "execution_count": null,
   "id": "f36c92bb-e07a-4811-9d7c-93211ece2f7b",
   "metadata": {},
   "outputs": [],
   "source": []
  }
 ],
 "metadata": {
  "kernelspec": {
   "display_name": "Python 3 (ipykernel)",
   "language": "python",
   "name": "python3"
  },
  "language_info": {
   "codemirror_mode": {
    "name": "ipython",
    "version": 3
   },
   "file_extension": ".py",
   "mimetype": "text/x-python",
   "name": "python",
   "nbconvert_exporter": "python",
   "pygments_lexer": "ipython3",
   "version": "3.12.7"
  }
 },
 "nbformat": 4,
 "nbformat_minor": 5
}
